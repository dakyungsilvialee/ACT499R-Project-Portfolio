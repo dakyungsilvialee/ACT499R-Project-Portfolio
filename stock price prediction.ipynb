{
 "cells": [
  {
   "cell_type": "code",
   "execution_count": 13,
   "id": "7a346d12-97f7-4f7a-9597-68fc04670b18",
   "metadata": {},
   "outputs": [
    {
     "name": "stdout",
     "output_type": "stream",
     "text": [
      "Requirement already satisfied: pandas-datareader in ./opt/anaconda3/lib/python3.9/site-packages (0.10.0)\n",
      "Requirement already satisfied: pandas>=0.23 in ./opt/anaconda3/lib/python3.9/site-packages (from pandas-datareader) (1.3.4)\n",
      "Requirement already satisfied: requests>=2.19.0 in ./opt/anaconda3/lib/python3.9/site-packages (from pandas-datareader) (2.28.1)\n",
      "Requirement already satisfied: lxml in ./opt/anaconda3/lib/python3.9/site-packages (from pandas-datareader) (4.6.3)\n",
      "Requirement already satisfied: python-dateutil>=2.7.3 in ./opt/anaconda3/lib/python3.9/site-packages (from pandas>=0.23->pandas-datareader) (2.8.2)\n",
      "Requirement already satisfied: pytz>=2017.3 in ./opt/anaconda3/lib/python3.9/site-packages (from pandas>=0.23->pandas-datareader) (2021.3)\n",
      "Requirement already satisfied: numpy>=1.17.3 in ./opt/anaconda3/lib/python3.9/site-packages (from pandas>=0.23->pandas-datareader) (1.20.3)\n",
      "Requirement already satisfied: six>=1.5 in ./opt/anaconda3/lib/python3.9/site-packages (from python-dateutil>=2.7.3->pandas>=0.23->pandas-datareader) (1.16.0)\n",
      "Requirement already satisfied: idna<4,>=2.5 in ./opt/anaconda3/lib/python3.9/site-packages (from requests>=2.19.0->pandas-datareader) (3.2)\n",
      "Requirement already satisfied: urllib3<1.27,>=1.21.1 in ./opt/anaconda3/lib/python3.9/site-packages (from requests>=2.19.0->pandas-datareader) (1.26.7)\n",
      "Requirement already satisfied: certifi>=2017.4.17 in ./opt/anaconda3/lib/python3.9/site-packages (from requests>=2.19.0->pandas-datareader) (2021.10.8)\n",
      "Requirement already satisfied: charset-normalizer<3,>=2 in ./opt/anaconda3/lib/python3.9/site-packages (from requests>=2.19.0->pandas-datareader) (2.0.4)\n"
     ]
    }
   ],
   "source": [
    "!pip install pandas-datareader \n",
    "import pandas as pd\n",
    "import pandas_datareader\n",
    "import datetime\n",
    "import pandas_datareader.data as web\n",
    "import matplotlib.pyplot as plt\n",
    "import seaborn as sns\n",
    "pd.options.display.float_format = '{:,.2f}'.format\n",
    "\n",
    "\n",
    "start = datetime.datetime(2018,1,1)\n",
    "end = datetime.datetime(2022,1,1)"
   ]
  },
  {
   "cell_type": "code",
   "execution_count": 6,
   "id": "1c98347d-00a1-40ac-8867-7de9c0f054c1",
   "metadata": {},
   "outputs": [
    {
     "data": {
      "text/html": [
       "<div>\n",
       "<style scoped>\n",
       "    .dataframe tbody tr th:only-of-type {\n",
       "        vertical-align: middle;\n",
       "    }\n",
       "\n",
       "    .dataframe tbody tr th {\n",
       "        vertical-align: top;\n",
       "    }\n",
       "\n",
       "    .dataframe thead th {\n",
       "        text-align: right;\n",
       "    }\n",
       "</style>\n",
       "<table border=\"1\" class=\"dataframe\">\n",
       "  <thead>\n",
       "    <tr style=\"text-align: right;\">\n",
       "      <th></th>\n",
       "      <th>High</th>\n",
       "      <th>Low</th>\n",
       "      <th>Open</th>\n",
       "      <th>Close</th>\n",
       "      <th>Volume</th>\n",
       "      <th>Adj Close</th>\n",
       "    </tr>\n",
       "    <tr>\n",
       "      <th>Date</th>\n",
       "      <th></th>\n",
       "      <th></th>\n",
       "      <th></th>\n",
       "      <th></th>\n",
       "      <th></th>\n",
       "      <th></th>\n",
       "    </tr>\n",
       "  </thead>\n",
       "  <tbody>\n",
       "    <tr>\n",
       "      <th>2018-01-02</th>\n",
       "      <td>21.47</td>\n",
       "      <td>20.73</td>\n",
       "      <td>20.80</td>\n",
       "      <td>21.37</td>\n",
       "      <td>65,283,000.00</td>\n",
       "      <td>21.37</td>\n",
       "    </tr>\n",
       "    <tr>\n",
       "      <th>2018-01-03</th>\n",
       "      <td>21.68</td>\n",
       "      <td>21.04</td>\n",
       "      <td>21.40</td>\n",
       "      <td>21.15</td>\n",
       "      <td>67,822,500.00</td>\n",
       "      <td>21.15</td>\n",
       "    </tr>\n",
       "    <tr>\n",
       "      <th>2018-01-04</th>\n",
       "      <td>21.24</td>\n",
       "      <td>20.38</td>\n",
       "      <td>20.86</td>\n",
       "      <td>20.97</td>\n",
       "      <td>149,194,500.00</td>\n",
       "      <td>20.97</td>\n",
       "    </tr>\n",
       "    <tr>\n",
       "      <th>2018-01-05</th>\n",
       "      <td>21.15</td>\n",
       "      <td>20.80</td>\n",
       "      <td>21.11</td>\n",
       "      <td>21.11</td>\n",
       "      <td>68,868,000.00</td>\n",
       "      <td>21.11</td>\n",
       "    </tr>\n",
       "    <tr>\n",
       "      <th>2018-01-08</th>\n",
       "      <td>22.47</td>\n",
       "      <td>21.03</td>\n",
       "      <td>21.07</td>\n",
       "      <td>22.43</td>\n",
       "      <td>147,891,000.00</td>\n",
       "      <td>22.43</td>\n",
       "    </tr>\n",
       "  </tbody>\n",
       "</table>\n",
       "</div>"
      ],
      "text/plain": [
       "            High   Low  Open  Close         Volume  Adj Close\n",
       "Date                                                         \n",
       "2018-01-02 21.47 20.73 20.80  21.37  65,283,000.00      21.37\n",
       "2018-01-03 21.68 21.04 21.40  21.15  67,822,500.00      21.15\n",
       "2018-01-04 21.24 20.38 20.86  20.97 149,194,500.00      20.97\n",
       "2018-01-05 21.15 20.80 21.11  21.11  68,868,000.00      21.11\n",
       "2018-01-08 22.47 21.03 21.07  22.43 147,891,000.00      22.43"
      ]
     },
     "execution_count": 6,
     "metadata": {},
     "output_type": "execute_result"
    }
   ],
   "source": [
    "Tesla = web.DataReader('TSLA','yahoo',start,end)\n",
    "Tesla.head()"
   ]
  },
  {
   "cell_type": "code",
   "execution_count": 7,
   "id": "c3f51968-6b35-4d34-b919-b815f67dccce",
   "metadata": {},
   "outputs": [
    {
     "data": {
      "text/html": [
       "<div>\n",
       "<style scoped>\n",
       "    .dataframe tbody tr th:only-of-type {\n",
       "        vertical-align: middle;\n",
       "    }\n",
       "\n",
       "    .dataframe tbody tr th {\n",
       "        vertical-align: top;\n",
       "    }\n",
       "\n",
       "    .dataframe thead th {\n",
       "        text-align: right;\n",
       "    }\n",
       "</style>\n",
       "<table border=\"1\" class=\"dataframe\">\n",
       "  <thead>\n",
       "    <tr style=\"text-align: right;\">\n",
       "      <th></th>\n",
       "      <th>High</th>\n",
       "      <th>Low</th>\n",
       "      <th>Open</th>\n",
       "      <th>Close</th>\n",
       "      <th>Volume</th>\n",
       "      <th>Adj Close</th>\n",
       "    </tr>\n",
       "    <tr>\n",
       "      <th>Date</th>\n",
       "      <th></th>\n",
       "      <th></th>\n",
       "      <th></th>\n",
       "      <th></th>\n",
       "      <th></th>\n",
       "      <th></th>\n",
       "    </tr>\n",
       "  </thead>\n",
       "  <tbody>\n",
       "    <tr>\n",
       "      <th>2018-01-02</th>\n",
       "      <td>34.76</td>\n",
       "      <td>34.27</td>\n",
       "      <td>34.27</td>\n",
       "      <td>34.76</td>\n",
       "      <td>25,600.00</td>\n",
       "      <td>27.24</td>\n",
       "    </tr>\n",
       "    <tr>\n",
       "      <th>2018-01-03</th>\n",
       "      <td>35.04</td>\n",
       "      <td>34.81</td>\n",
       "      <td>34.99</td>\n",
       "      <td>34.95</td>\n",
       "      <td>35,200.00</td>\n",
       "      <td>27.39</td>\n",
       "    </tr>\n",
       "    <tr>\n",
       "      <th>2018-01-04</th>\n",
       "      <td>35.43</td>\n",
       "      <td>35.17</td>\n",
       "      <td>35.43</td>\n",
       "      <td>35.19</td>\n",
       "      <td>38,400.00</td>\n",
       "      <td>27.58</td>\n",
       "    </tr>\n",
       "    <tr>\n",
       "      <th>2018-01-05</th>\n",
       "      <td>35.62</td>\n",
       "      <td>35.38</td>\n",
       "      <td>35.56</td>\n",
       "      <td>35.60</td>\n",
       "      <td>38,300.00</td>\n",
       "      <td>27.90</td>\n",
       "    </tr>\n",
       "    <tr>\n",
       "      <th>2018-01-08</th>\n",
       "      <td>36.03</td>\n",
       "      <td>35.76</td>\n",
       "      <td>35.97</td>\n",
       "      <td>35.84</td>\n",
       "      <td>65,600.00</td>\n",
       "      <td>28.09</td>\n",
       "    </tr>\n",
       "  </tbody>\n",
       "</table>\n",
       "</div>"
      ],
      "text/plain": [
       "            High   Low  Open  Close    Volume  Adj Close\n",
       "Date                                                    \n",
       "2018-01-02 34.76 34.27 34.27  34.76 25,600.00      27.24\n",
       "2018-01-03 35.04 34.81 34.99  34.95 35,200.00      27.39\n",
       "2018-01-04 35.43 35.17 35.43  35.19 38,400.00      27.58\n",
       "2018-01-05 35.62 35.38 35.56  35.60 38,300.00      27.90\n",
       "2018-01-08 36.03 35.76 35.97  35.84 65,600.00      28.09"
      ]
     },
     "execution_count": 7,
     "metadata": {},
     "output_type": "execute_result"
    }
   ],
   "source": [
    "BMW = web.DataReader('BMWYY','yahoo',start,end)\n",
    "BMW.head()"
   ]
  },
  {
   "cell_type": "code",
   "execution_count": 14,
   "id": "e81ce28a-cb83-4a28-b0db-bd95c2bdc72b",
   "metadata": {},
   "outputs": [
    {
     "data": {
      "text/plain": [
       "<function matplotlib.pyplot.show(close=None, block=None)>"
      ]
     },
     "execution_count": 14,
     "metadata": {},
     "output_type": "execute_result"
    },
    {
     "data": {
      "image/png": "[encoded data removed]",
      "text/plain": [
       "<Figure size 432x288 with 1 Axes>"
      ]
     },
     "metadata": {
      "needs_background": "light"
     },
     "output_type": "display_data"
    }
   ],
   "source": [
    "Tesla['Close'].plot(label='Tesla Closing Price', fig=(50, 5))\n",
    "Tesla['Open'].plot(label='Tesla Open Price', fig=(50, 5))\n",
    "BMW['Close'].plot(label='BMW Closing Price', fig=(50, 5))\n",
    "BMW['Open'].plot(label='BMW Open Price', fig=(50, 5))\n",
    "plt.legend()\n",
    "plt.title('Teslas Stocks')\n",
    "plt.ylabel('Stock Prices')\n",
    "plt.show\n",
    "\n",
    "\n",
    "# Tesla and BMW's opening price are pretty similar for the past 4 years\n",
    "# Looking closely, from mid 2020, Tesla has been dominating over BMW with higher opening price\n",
    "# We would have to look at volume (number of stocks traded) of the 2 stocks to compare in depth"
   ]
  },
  {
   "cell_type": "code",
   "execution_count": 15,
   "id": "1ee37ee1-d2b5-41e0-9d8b-3cd1a5926ae5",
   "metadata": {},
   "outputs": [
    {
     "data": {
      "text/plain": [
       "<function matplotlib.pyplot.show(close=None, block=None)>"
      ]
     },
     "execution_count": 15,
     "metadata": {},
     "output_type": "execute_result"
    },
    {
     "data": {
      "image/png": "[encoded data removed]",
      "text/plain": [
       "<Figure size 1152x360 with 1 Axes>"
      ]
     },
     "metadata": {
      "needs_background": "light"
     },
     "output_type": "display_data"
    }
   ],
   "source": [
    "Tesla['Volume'].plot(label = 'Tesla Volume', figsize=(16, 5))\n",
    "BMW['Volume'].plot(label = 'BMW Volume', figsize=(16, 5))\n",
    "plt.title('Comparison output of Tesla and BMWs volume performance')\n",
    "plt.ylabel('Stock Prices')\n",
    "plt.show\n",
    "\n",
    "# It seems as if I should be better off investing Tesla because it had a huge spike reaching a high volume trade somewhere in late 2018, early 2020, and early 2021"
   ]
  },
  {
   "cell_type": "code",
   "execution_count": 17,
   "id": "a8386404-8116-42c1-901f-535ebcb4445f",
   "metadata": {},
   "outputs": [
    {
     "data": {
      "text/html": [
       "<div>\n",
       "<style scoped>\n",
       "    .dataframe tbody tr th:only-of-type {\n",
       "        vertical-align: middle;\n",
       "    }\n",
       "\n",
       "    .dataframe tbody tr th {\n",
       "        vertical-align: top;\n",
       "    }\n",
       "\n",
       "    .dataframe thead th {\n",
       "        text-align: right;\n",
       "    }\n",
       "</style>\n",
       "<table border=\"1\" class=\"dataframe\">\n",
       "  <thead>\n",
       "    <tr style=\"text-align: right;\">\n",
       "      <th></th>\n",
       "      <th>High</th>\n",
       "      <th>Low</th>\n",
       "      <th>Open</th>\n",
       "      <th>Close</th>\n",
       "      <th>Volume</th>\n",
       "      <th>Adj Close</th>\n",
       "    </tr>\n",
       "    <tr>\n",
       "      <th>Date</th>\n",
       "      <th></th>\n",
       "      <th></th>\n",
       "      <th></th>\n",
       "      <th></th>\n",
       "      <th></th>\n",
       "      <th></th>\n",
       "    </tr>\n",
       "  </thead>\n",
       "  <tbody>\n",
       "    <tr>\n",
       "      <th>2020-02-04</th>\n",
       "      <td>64.60</td>\n",
       "      <td>55.59</td>\n",
       "      <td>58.86</td>\n",
       "      <td>59.14</td>\n",
       "      <td>914,082,000.00</td>\n",
       "      <td>59.14</td>\n",
       "    </tr>\n",
       "  </tbody>\n",
       "</table>\n",
       "</div>"
      ],
      "text/plain": [
       "            High   Low  Open  Close         Volume  Adj Close\n",
       "Date                                                         \n",
       "2020-02-04 64.60 55.59 58.86  59.14 914,082,000.00      59.14"
      ]
     },
     "execution_count": 17,
     "metadata": {},
     "output_type": "execute_result"
    }
   ],
   "source": [
    "# If I were to invest on Tesla and am risk averse, I want to know its highest traded volume and to make sure that I can also jump on the investing trend\n",
    "highest = Tesla['Volume'].max()\n",
    "Tesla.loc[Tesla['Volume']==highest]\n",
    "# It would be optimal to invest around the early 2020"
   ]
  },
  {
   "cell_type": "code",
   "execution_count": 21,
   "id": "ac77fff9-9709-4743-b0ee-e890e544a676",
   "metadata": {},
   "outputs": [
    {
     "data": {
      "text/html": [
       "<div>\n",
       "<style scoped>\n",
       "    .dataframe tbody tr th:only-of-type {\n",
       "        vertical-align: middle;\n",
       "    }\n",
       "\n",
       "    .dataframe tbody tr th {\n",
       "        vertical-align: top;\n",
       "    }\n",
       "\n",
       "    .dataframe thead th {\n",
       "        text-align: right;\n",
       "    }\n",
       "</style>\n",
       "<table border=\"1\" class=\"dataframe\">\n",
       "  <thead>\n",
       "    <tr style=\"text-align: right;\">\n",
       "      <th></th>\n",
       "      <th>High</th>\n",
       "      <th>Low</th>\n",
       "      <th>Open</th>\n",
       "      <th>Close</th>\n",
       "      <th>Volume</th>\n",
       "      <th>Adj Close</th>\n",
       "      <th>returns</th>\n",
       "      <th>cumulative return</th>\n",
       "    </tr>\n",
       "    <tr>\n",
       "      <th>Date</th>\n",
       "      <th></th>\n",
       "      <th></th>\n",
       "      <th></th>\n",
       "      <th></th>\n",
       "      <th></th>\n",
       "      <th></th>\n",
       "      <th></th>\n",
       "      <th></th>\n",
       "    </tr>\n",
       "  </thead>\n",
       "  <tbody>\n",
       "    <tr>\n",
       "      <th>2021-11-04</th>\n",
       "      <td>414.50</td>\n",
       "      <td>405.67</td>\n",
       "      <td>411.47</td>\n",
       "      <td>409.97</td>\n",
       "      <td>76,192,200.00</td>\n",
       "      <td>409.97</td>\n",
       "      <td>0.01</td>\n",
       "      <td>19.19</td>\n",
       "    </tr>\n",
       "    <tr>\n",
       "      <th>2021-11-05</th>\n",
       "      <td>413.29</td>\n",
       "      <td>402.67</td>\n",
       "      <td>409.33</td>\n",
       "      <td>407.36</td>\n",
       "      <td>64,886,400.00</td>\n",
       "      <td>407.36</td>\n",
       "      <td>-0.01</td>\n",
       "      <td>19.06</td>\n",
       "    </tr>\n",
       "    <tr>\n",
       "      <th>2021-11-03</th>\n",
       "      <td>405.13</td>\n",
       "      <td>384.21</td>\n",
       "      <td>392.44</td>\n",
       "      <td>404.62</td>\n",
       "      <td>103,885,500.00</td>\n",
       "      <td>404.62</td>\n",
       "      <td>0.04</td>\n",
       "      <td>18.94</td>\n",
       "    </tr>\n",
       "  </tbody>\n",
       "</table>\n",
       "</div>"
      ],
      "text/plain": [
       "             High    Low   Open  Close         Volume  Adj Close  returns  \\\n",
       "Date                                                                        \n",
       "2021-11-04 414.50 405.67 411.47 409.97  76,192,200.00     409.97     0.01   \n",
       "2021-11-05 413.29 402.67 409.33 407.36  64,886,400.00     407.36    -0.01   \n",
       "2021-11-03 405.13 384.21 392.44 404.62 103,885,500.00     404.62     0.04   \n",
       "\n",
       "            cumulative return  \n",
       "Date                           \n",
       "2021-11-04              19.19  \n",
       "2021-11-05              19.06  \n",
       "2021-11-03              18.94  "
      ]
     },
     "execution_count": 21,
     "metadata": {},
     "output_type": "execute_result"
    }
   ],
   "source": [
    "# I want to seek Tesla's top 3 highest stock price to see when I should sell my tesla share and get a good ROI \n",
    "Tesla3high = Tesla.nlargest(3, ['High'])\n",
    "Tesla3high"
   ]
  },
  {
   "cell_type": "code",
   "execution_count": 22,
   "id": "1bdb8e02-5de2-4777-943c-fb7ece31cf05",
   "metadata": {},
   "outputs": [
    {
     "data": {
      "text/html": [
       "<div>\n",
       "<style scoped>\n",
       "    .dataframe tbody tr th:only-of-type {\n",
       "        vertical-align: middle;\n",
       "    }\n",
       "\n",
       "    .dataframe tbody tr th {\n",
       "        vertical-align: top;\n",
       "    }\n",
       "\n",
       "    .dataframe thead th {\n",
       "        text-align: right;\n",
       "    }\n",
       "</style>\n",
       "<table border=\"1\" class=\"dataframe\">\n",
       "  <thead>\n",
       "    <tr style=\"text-align: right;\">\n",
       "      <th></th>\n",
       "      <th>High</th>\n",
       "      <th>Low</th>\n",
       "      <th>Open</th>\n",
       "      <th>Close</th>\n",
       "      <th>Volume</th>\n",
       "      <th>Adj Close</th>\n",
       "      <th>returns</th>\n",
       "      <th>cumulative return</th>\n",
       "    </tr>\n",
       "    <tr>\n",
       "      <th>Date</th>\n",
       "      <th></th>\n",
       "      <th></th>\n",
       "      <th></th>\n",
       "      <th></th>\n",
       "      <th></th>\n",
       "      <th></th>\n",
       "      <th></th>\n",
       "      <th></th>\n",
       "    </tr>\n",
       "  </thead>\n",
       "  <tbody>\n",
       "    <tr>\n",
       "      <th>2021-11-04</th>\n",
       "      <td>414.50</td>\n",
       "      <td>405.67</td>\n",
       "      <td>411.47</td>\n",
       "      <td>409.97</td>\n",
       "      <td>76,192,200.00</td>\n",
       "      <td>409.97</td>\n",
       "      <td>0.01</td>\n",
       "      <td>19.19</td>\n",
       "    </tr>\n",
       "    <tr>\n",
       "      <th>2021-11-05</th>\n",
       "      <td>413.29</td>\n",
       "      <td>402.67</td>\n",
       "      <td>409.33</td>\n",
       "      <td>407.36</td>\n",
       "      <td>64,886,400.00</td>\n",
       "      <td>407.36</td>\n",
       "      <td>-0.01</td>\n",
       "      <td>19.06</td>\n",
       "    </tr>\n",
       "    <tr>\n",
       "      <th>2021-11-03</th>\n",
       "      <td>405.13</td>\n",
       "      <td>384.21</td>\n",
       "      <td>392.44</td>\n",
       "      <td>404.62</td>\n",
       "      <td>103,885,500.00</td>\n",
       "      <td>404.62</td>\n",
       "      <td>0.04</td>\n",
       "      <td>18.94</td>\n",
       "    </tr>\n",
       "  </tbody>\n",
       "</table>\n",
       "</div>"
      ],
      "text/plain": [
       "             High    Low   Open  Close         Volume  Adj Close  returns  \\\n",
       "Date                                                                        \n",
       "2021-11-04 414.50 405.67 411.47 409.97  76,192,200.00     409.97     0.01   \n",
       "2021-11-05 413.29 402.67 409.33 407.36  64,886,400.00     407.36    -0.01   \n",
       "2021-11-03 405.13 384.21 392.44 404.62 103,885,500.00     404.62     0.04   \n",
       "\n",
       "            cumulative return  \n",
       "Date                           \n",
       "2021-11-04              19.19  \n",
       "2021-11-05              19.06  \n",
       "2021-11-03              18.94  "
      ]
     },
     "execution_count": 22,
     "metadata": {},
     "output_type": "execute_result"
    }
   ],
   "source": [
    "# I want to seek Tesla's top 3 lowest stock price to see when I can purchase some Tesla shares and hope to make a good ROI in the future\n",
    "Tesla3low = Tesla.nlargest(3, ['Low'])\n",
    "Tesla3low\n"
   ]
  },
  {
   "cell_type": "code",
   "execution_count": 18,
   "id": "ef96a325-d4c8-438a-bc07-5c4ef3a4d0db",
   "metadata": {},
   "outputs": [],
   "source": [
    "# I also want to know the cumulative returns of each stocks to compare and chose the one that gives a bigger cumulative return\n",
    "BMW['returns'] = (BMW['Close']/BMW['Close'].shift(1))-1\n",
    "Tesla['returns'] = (Tesla['Close']/Tesla['Close'].shift(1))-1\n",
    "\n",
    "BMW['cumulative return'] = (1 + BMW['returns']).cumprod()\n",
    "Tesla['cumulative return'] = (1 + Tesla['returns']).cumprod()"
   ]
  },
  {
   "cell_type": "code",
   "execution_count": 19,
   "id": "7e5d8098-3353-4080-b313-2aadf60683de",
   "metadata": {},
   "outputs": [
    {
     "data": {
      "text/plain": [
       "<matplotlib.legend.Legend at 0x7fc6a76fad00>"
      ]
     },
     "execution_count": 19,
     "metadata": {},
     "output_type": "execute_result"
    },
    {
     "data": {
      "image/png": "[encoded data removed]",
      "text/plain": [
       "<Figure size 432x288 with 1 Axes>"
      ]
     },
     "metadata": {
      "needs_background": "light"
     },
     "output_type": "display_data"
    }
   ],
   "source": [
    "BMW['cumulative return'].plot(label='BMW')\n",
    "Tesla['cumulative return'].plot(label='Tesla')\n",
    "plt.legend()\n",
    "\n",
    "# Tesla has a bigger cumulative return whereas BMW had a small cumulative return. Thus, I should invest in Tesla."
   ]
  },
  {
   "cell_type": "markdown",
   "id": "16bf480e-f02d-450a-8b95-cd1026b4a110",
   "metadata": {
    "tags": []
   },
   "source": [
    "### writeup\n",
    "\n",
    "\n",
    "The automobile industry is in high demand during the recent years, including innovative and environment friendly brands like Tesla and hugh luxury brands like BMW. In order to make a wise investing decision, an investor should compare two companies' stock performance: open, close, high, low, volume, and cumulative returns.\n",
    "\n",
    "So, let's make a simple line plot that compares Tesla and BMW's open and close price. By glossing over the graph, Tesla and BMW's opening price are pretty similar for the past 4 years (2018-2022). Looking at it more closely, from mid 2020, Tesla has had higher opening price compared to BMW.\n",
    "\n",
    "This isn't enough to make a investing decision.\n",
    "\n",
    "So, le'ts compare volume (number of stocks traded) of the 2 stocks to compare in depth. We can see that I am better off investing in Tesla because of the huge spike somewhere in late 2018, early 2020, and early 2021. \n",
    "\n",
    "Let's add more meat into the analysis. If I am a risk averse investor and I want to confirm that I should invest in Tesla, I should check its highest traded volume. I would also appreciate looking at Tesla's top 3 highest stock price to see when I should sell my tesla share and get a good ROI. I also want to seek the top 3 lowest stock price to see when I can purchase some shares in a cheaper price.\n",
    "\n",
    "I lastly want a confirmation that investing on a Tesla stock would give me a higher return. I used our pre-existing variables to calculate return and cumulative return. Then, compare the two companies' cumulative return by plotting another line chart to confirm that investing on a Tesla is good because it has a bigger cumulative return than BMW."
   ]
  }
 ],
 "metadata": {
  "kernelspec": {
   "display_name": "Python 3 (ipykernel)",
   "language": "python",
   "name": "python3"
  },
  "language_info": {
   "codemirror_mode": {
    "name": "ipython",
    "version": 3
   },
   "file_extension": ".py",
   "mimetype": "text/x-python",
   "name": "python",
   "nbconvert_exporter": "python",
   "pygments_lexer": "ipython3",
   "version": "3.9.7"
  }
 },
 "nbformat": 4,
 "nbformat_minor": 5
}
