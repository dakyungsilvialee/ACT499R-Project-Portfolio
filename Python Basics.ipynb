{
 "cells": [
  {
   "cell_type": "markdown",
   "metadata": {},
   "source": [
    "# Homework 2\n",
    "\n",
    "Nothing in this notebook should be hard coded except when I ask you to input data such as in Exercise 1a."
   ]
  },
  {
   "cell_type": "markdown",
   "metadata": {},
   "source": [
    "<font color='red' size = '5'> Exercise 1: Lists </font>\n",
    "\n",
    "**a.** Make a list with 6 numerical values. Include at least one number above 100, one number with decimals, and one negative number. Make sure your list is not in ascending or descending order and name your list ``mylist``."
   ]
  },
  {
   "cell_type": "code",
   "execution_count": null,
   "metadata": {},
   "outputs": [],
   "source": [
    "# enter your answer here\n",
    "\n"
   ]
  },
  {
   "cell_type": "markdown",
   "metadata": {},
   "source": [
    "**b.** Use list subsetting to extract the second item in the list and save it to a variable named ``second``."
   ]
  },
  {
   "cell_type": "code",
   "execution_count": null,
   "metadata": {},
   "outputs": [],
   "source": []
  },
  {
   "cell_type": "markdown",
   "metadata": {},
   "source": [
    "**c.** Raise the variable ``second`` to the 3rd power and name the resulting solution ``third``."
   ]
  },
  {
   "cell_type": "code",
   "execution_count": null,
   "metadata": {},
   "outputs": [],
   "source": []
  },
  {
   "cell_type": "markdown",
   "metadata": {},
   "source": [
    "**d.** Use list subsetting to make a new list named ``newlist`` that includes every other item, starting with the second item from your first list."
   ]
  },
  {
   "cell_type": "code",
   "execution_count": null,
   "metadata": {},
   "outputs": [],
   "source": []
  },
  {
   "cell_type": "markdown",
   "metadata": {},
   "source": [
    "**e.** Save the minimum value in ``newlist`` as ``lowest``."
   ]
  },
  {
   "cell_type": "code",
   "execution_count": null,
   "metadata": {},
   "outputs": [],
   "source": []
  },
  {
   "cell_type": "markdown",
   "metadata": {},
   "source": [
    "<font color='red' size = '5'> Exercise 2: Dictionaries </font>\n",
    "\n",
    "**a.** Make a dictionary to store the following data:\n",
    "\n",
    "- 3 keys- each the name of a course you are taking\n",
    "- 3 values for each key- expected difficulty (easy, medium, hard), expected grade, level of enthusiasm for the subject (1-10)\n",
    "\n",
    "Make sure at least one class has an expected difficulty of 'easy' but that not all have an expected difficult of 'easy'.\n",
    "\n",
    "Name your dictionary ``classes``."
   ]
  },
  {
   "cell_type": "code",
   "execution_count": null,
   "metadata": {},
   "outputs": [],
   "source": []
  },
  {
   "cell_type": "markdown",
   "metadata": {},
   "source": [
    "**b.** Use dictionary subsetting and a list method to add an item that specifies whether the second course in your dictionary is an elective or required course."
   ]
  },
  {
   "cell_type": "code",
   "execution_count": null,
   "metadata": {},
   "outputs": [],
   "source": []
  },
  {
   "cell_type": "markdown",
   "metadata": {},
   "source": [
    "**c.** Add a fourth class to your dictionary with the same three values you listed for the other courses."
   ]
  },
  {
   "cell_type": "code",
   "execution_count": null,
   "metadata": {},
   "outputs": [],
   "source": []
  },
  {
   "cell_type": "markdown",
   "metadata": {},
   "source": [
    "**d.** Write a for loop to print out the following information for each class in your dictionary:\n",
    "```python\n",
    "\n",
    "Classname  Expected Difficulty\n",
    "```"
   ]
  },
  {
   "cell_type": "code",
   "execution_count": null,
   "metadata": {},
   "outputs": [],
   "source": []
  },
  {
   "cell_type": "markdown",
   "metadata": {},
   "source": [
    "**e.** Write a for loop that only prints your expected grade for a subject *if* you labeled the expected difficulty as 'easy'. Output should look like:\n",
    "\n",
    "```python\n",
    "\n",
    "Classname Expected Grade\n",
    "```"
   ]
  },
  {
   "cell_type": "code",
   "execution_count": null,
   "metadata": {},
   "outputs": [],
   "source": []
  },
  {
   "cell_type": "markdown",
   "metadata": {},
   "source": [
    "<font color='red' size = '5'> Exercise 3: Functions </font>\n",
    "\n",
    "Use a function to calculate the future value of a \\$10 investment made today. The investment will earn 2\\% per year and you plan to invest the money for 50 years. Make your code dynamic (easy to update). Save your answer under the variable name ``investment``."
   ]
  },
  {
   "cell_type": "code",
   "execution_count": null,
   "metadata": {},
   "outputs": [],
   "source": []
  },
  {
   "cell_type": "code",
   "execution_count": null,
   "metadata": {},
   "outputs": [],
   "source": []
  },
  {
   "cell_type": "code",
   "execution_count": null,
   "metadata": {},
   "outputs": [],
   "source": []
  },
  {
   "cell_type": "markdown",
   "metadata": {},
   "source": [
    "<font color='red' size = '5'> Exercise 4: NBV Function </font>\n",
    "    \n",
    "Finish the function we started in class on Wednesday: \n",
    "\n",
    "Create a function that calculates the net book value of an asset. \n",
    "\n",
    "   <font size = 4> Net Book Value = Historical Cost - Accumulated Depreciation </font>\n",
    "\n",
    "**Note that we should not depreciate below the asset's residual value.** This consideration should be included in your function."
   ]
  },
  {
   "cell_type": "code",
   "execution_count": null,
   "metadata": {},
   "outputs": [],
   "source": []
  },
  {
   "cell_type": "markdown",
   "metadata": {},
   "source": [
    "<font color='red' size = '5'> Exercise 5: Markdown </font>\n",
    "\n",
    "Add a cell below and make it a markdown cell. In that cell answer the following questions:\n",
    "\n",
    "a. On a scale from 1-10, what is your current comfort level with Python and the content we have covered so far?\n",
    "\n",
    "b. What if anything are you currently struggling the most with in Python?"
   ]
  },
  {
   "cell_type": "markdown",
   "metadata": {},
   "source": [
    "<font color='red' size = '5'> Extra Credit: Nested Loop </font>\n",
    "    \n",
    "Create a dictionary that holds the same four assets we studied in class.\n",
    "\n",
    "Create a loop that iterates over the assets in our dictionary over 10 years and returns the net book value of each asset in each year.\n",
    "\n",
    "Note: Your answer will have two loops- one nested inside of another. You may want to play around with which loop should be the outside versus inside loop. Be sure to use the net book value function you created in exercise 4."
   ]
  },
  {
   "cell_type": "code",
   "execution_count": null,
   "metadata": {},
   "outputs": [],
   "source": []
  },
  {
   "cell_type": "code",
   "execution_count": null,
   "metadata": {},
   "outputs": [],
   "source": []
  },
  {
   "cell_type": "markdown",
   "metadata": {},
   "source": [
    "## Read for Monday's Class\n",
    "\n",
    "In class next week we will complete Trina’s Trinkets case study. Please read the first 2 pages and skim pages 3 and 4 of Trina’s Trinkets so that you’re familiar with the scenario."
   ]
  }
 ],
 "metadata": {
  "kernelspec": {
   "display_name": "Python 3",
   "language": "python",
   "name": "python3"
  },
  "language_info": {
   "codemirror_mode": {
    "name": "ipython",
    "version": 3
   },
   "file_extension": ".py",
   "mimetype": "text/x-python",
   "name": "python",
   "nbconvert_exporter": "python",
   "pygments_lexer": "ipython3",
   "version": "3.8.8"
  }
 },
 "nbformat": 4,
 "nbformat_minor": 4
}
